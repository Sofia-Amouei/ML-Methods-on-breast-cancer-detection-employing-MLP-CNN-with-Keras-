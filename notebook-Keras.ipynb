{
 "cells": [
  {
   "attachments": {},
   "cell_type": "markdown",
   "metadata": {},
   "source": [
    "## Implementing Keras Libraray on breast cancer detection"
   ]
  },
  {
   "cell_type": "code",
   "execution_count": null,
   "metadata": {},
   "outputs": [],
   "source": [
    "from sklearn.datasets import load_breast_cancer\n",
    "from sklearn.preprocessing import StandardScaler\n",
    "\n",
    "import pandas as pd\n",
    "import numpy as np\n",
    "\n",
    "from keras.models import Sequential\n",
    "from keras.layers import Dense"
   ]
  },
  {
   "cell_type": "code",
   "execution_count": null,
   "metadata": {},
   "outputs": [],
   "source": [
    "data=load_breast_cancer()\n",
    "\n",
    "data.keys()"
   ]
  },
  {
   "attachments": {},
   "cell_type": "markdown",
   "metadata": {},
   "source": [
    "\n",
    "dict_keys(['data', 'target', 'frame', 'target_names', 'DESCR', 'feature_names', 'filename', 'data_module'])"
   ]
  },
  {
   "cell_type": "code",
   "execution_count": null,
   "metadata": {},
   "outputs": [],
   "source": [
    "print(data['DESCR'])"
   ]
  },
  {
   "attachments": {},
   "cell_type": "markdown",
   "metadata": {},
   "source": [
    ".. _breast_cancer_dataset:\n",
    "\n",
    "Breast cancer diagnostic (Meha Desai , Manan Shah ,\n",
    "1- Department of Electronics and Instrumentation Engineering, School of Electronics and Electrical Engineering, Vellore Institute of Technology, Tamil Nadu, India\n",
    "2- Department of Chemical Engineering, School of Technology, Pandit Deendayal Petroleum University, Gandhinagar, Gujarat, India) Dataset\n",
    "--------------------------------------------\n",
    "\n",
    "**Data Set Characteristics:**\n",
    "\n",
    "    :Number of Instances: 569\n",
    "\n",
    "    :Number of Attributes: 30 numeric, predictive attributes and the class\n",
    "\n",
    "    :Attribute Information:\n",
    "        - radius (mean of distances from center to points on the perimeter)\n",
    "        - texture (standard deviation of gray-scale values)\n",
    "        - perimeter\n",
    "        - area\n",
    "        - smoothness (local variation in radius lengths)\n",
    "        - compactness (perimeter^2 / area - 1.0)\n",
    "        - concavity (severity of concave portions of the contour)\n",
    "        - concave points (number of concave portions of the contour)\n",
    "        - symmetry\n",
    "        - fractal dimension (\"coastline approximation\" - 1)\n",
    "\n",
    "        The mean, standard error, and \"worst\" or largest (mean of the three\n",
    "        worst/largest values) of these features were computed for each image,\n",
    "        resulting in 30 features.  For instance, field 0 is Mean Radius, field\n",
    "        10 is Radius SE, field 20 is Worst Radius.\n",
    "\n",
    "        - class:\n",
    "                - Malignant\n",
    "                - Benign\n",
    "\n",
    "    :Summary Statistics:\n",
    "\n",
    "    ===================================== ====== ======\n",
    "                                           Min    Max\n",
    "    ===================================== ====== ======\n",
    "    radius (mean):                        6.981  28.11\n",
    "    texture (mean):                       9.71   39.28\n",
    "    perimeter (mean):                     43.79  188.5\n",
    "    area (mean):                          143.5  2501.0\n",
    "    smoothness (mean):                    0.053  0.163\n",
    "    compactness (mean):                   0.019  0.345\n",
    "    concavity (mean):                     0.0    0.427\n",
    "    concave points (mean):                0.0    0.201\n",
    "    symmetry (mean):                      0.106  0.304\n",
    "    fractal dimension (mean):             0.05   0.097\n",
    "    radius (standard error):              0.112  2.873\n",
    "    texture (standard error):             0.36   4.885\n",
    "    perimeter (standard error):           0.757  21.98\n",
    "    area (standard error):                6.802  542.2\n",
    "    smoothness (standard error):          0.002  0.031\n",
    "    compactness (standard error):         0.002  0.135\n",
    "    concavity (standard error):           0.0    0.396\n",
    "    concave points (standard error):      0.0    0.053\n",
    "    symmetry (standard error):            0.008  0.079\n",
    "    fractal dimension (standard error):   0.001  0.03\n",
    "    radius (worst):                       7.93   36.04\n",
    "    texture (worst):                      12.02  49.54\n",
    "    perimeter (worst):                    50.41  251.2\n",
    "    area (worst):                         185.2  4254.0\n",
    "    smoothness (worst):                   0.071  0.223\n",
    "    compactness (worst):                  0.027  1.058\n",
    "    concavity (worst):                    0.0    1.252\n",
    "    concave points (worst):               0.0    0.291\n",
    "    symmetry (worst):                     0.156  0.664\n",
    "    fractal dimension (worst):            0.055  0.208\n",
    "    ===================================== ====== ======\n",
    "\n",
    "    :Missing Attribute Values: None\n",
    "\n",
    "    :Class Distribution: 212 - Malignant, 357 - Benign\n",
    "\n",
    "    :Creator:  Meha Desai , Manan Shah , Indian Professors\n",
    "\n",
    "    :Donor: Clinical eHealth\n",
    "\n",
    "    :Date: October, 2022\n"
   ]
  },
  {
   "cell_type": "code",
   "execution_count": null,
   "metadata": {},
   "outputs": [],
   "source": [
    "data['data'].shape"
   ]
  },
  {
   "attachments": {},
   "cell_type": "markdown",
   "metadata": {},
   "source": [
    "(569, 30)"
   ]
  },
  {
   "cell_type": "code",
   "execution_count": null,
   "metadata": {},
   "outputs": [],
   "source": [
    "data['feature_names']"
   ]
  },
  {
   "attachments": {},
   "cell_type": "markdown",
   "metadata": {},
   "source": [
    "array(['mean radius', 'mean texture', 'mean perimeter', 'mean area',\n",
    "       'mean smoothness', 'mean compactness', 'mean concavity',\n",
    "       'mean concave points', 'mean symmetry', 'mean fractal dimension',\n",
    "       'radius error', 'texture error', 'perimeter error', 'area error',\n",
    "       'smoothness error', 'compactness error', 'concavity error',\n",
    "       'concave points error', 'symmetry error',\n",
    "       'fractal dimension error', 'worst radius', 'worst texture',\n",
    "       'worst perimeter', 'worst area', 'worst smoothness',\n",
    "       'worst compactness', 'worst concavity', 'worst concave points',\n",
    "       'worst symmetry', 'worst fractal dimension'], dtype='<U23')"
   ]
  },
  {
   "cell_type": "code",
   "execution_count": null,
   "metadata": {},
   "outputs": [],
   "source": [
    "data['data'][0]"
   ]
  },
  {
   "attachments": {},
   "cell_type": "markdown",
   "metadata": {},
   "source": [
    "array([1.799e+01, 1.038e+01, 1.228e+02, 1.001e+03, 1.184e-01, 2.776e-01,\n",
    "       3.001e-01, 1.471e-01, 2.419e-01, 7.871e-02, 1.095e+00, 9.053e-01,\n",
    "       8.589e+00, 1.534e+02, 6.399e-03, 4.904e-02, 5.373e-02, 1.587e-02,\n",
    "       3.003e-02, 6.193e-03, 2.538e+01, 1.733e+01, 1.846e+02, 2.019e+03,\n",
    "       1.622e-01, 6.656e-01, 7.119e-01, 2.654e-01, 4.601e-01, 1.189e-01])"
   ]
  },
  {
   "cell_type": "code",
   "execution_count": null,
   "metadata": {},
   "outputs": [],
   "source": [
    "j=0\n",
    "for i in data['feature_names']:\n",
    "  print(i,':',data['data'][0][j])\n",
    "  j+=1"
   ]
  },
  {
   "attachments": {},
   "cell_type": "markdown",
   "metadata": {},
   "source": [
    "mean radius : 17.99\n",
    "mean texture : 10.38\n",
    "mean perimeter : 122.8\n",
    "mean area : 1001.0\n",
    "mean smoothness : 0.1184\n",
    "mean compactness : 0.2776\n",
    "mean concavity : 0.3001\n",
    "mean concave points : 0.1471\n",
    "mean symmetry : 0.2419\n",
    "mean fractal dimension : 0.07871\n",
    "radius error : 1.095\n",
    "texture error : 0.9053\n",
    "perimeter error : 8.589\n",
    "area error : 153.4\n",
    "smoothness error : 0.006399\n",
    "compactness error : 0.04904\n",
    "concavity error : 0.05373\n",
    "concave points error : 0.01587\n",
    "symmetry error : 0.03003\n",
    "fractal dimension error : 0.006193\n",
    "worst radius : 25.38\n",
    "worst texture : 17.33\n",
    "worst perimeter : 184.6\n",
    "worst area : 2019.0\n",
    "worst smoothness : 0.1622\n",
    "worst compactness : 0.6656\n",
    "worst concavity : 0.7119\n",
    "worst concave points : 0.2654\n",
    "worst symmetry : 0.4601\n",
    "worst fractal dimension : 0.1189"
   ]
  },
  {
   "cell_type": "code",
   "execution_count": null,
   "metadata": {},
   "outputs": [],
   "source": [
    "data['target']"
   ]
  },
  {
   "attachments": {},
   "cell_type": "markdown",
   "metadata": {},
   "source": [
    "array([0, 0, 0, 0, 0, 0, 0, 0, 0, 0, 0, 0, 0, 0, 0, 0, 0, 0, 0, 1, 1, 1,\n",
    "       0, 0, 0, 0, 0, 0, 0, 0, 0, 0, 0, 0, 0, 0, 0, 1, 0, 0, 0, 0, 0, 0,\n",
    "       0, 0, 1, 0, 1, 1, 1, 1, 1, 0, 0, 1, 0, 0, 1, 1, 1, 1, 0, 1, 0, 0,\n",
    "       1, 1, 1, 1, 0, 1, 0, 0, 1, 0, 1, 0, 0, 1, 1, 1, 0, 0, 1, 0, 0, 0,\n",
    "       1, 1, 1, 0, 1, 1, 0, 0, 1, 1, 1, 0, 0, 1, 1, 1, 1, 0, 1, 1, 0, 1,\n",
    "       1, 1, 1, 1, 1, 1, 1, 0, 0, 0, 1, 0, 0, 1, 1, 1, 0, 0, 1, 0, 1, 0,\n",
    "       0, 1, 0, 0, 1, 1, 0, 1, 1, 0, 1, 1, 1, 1, 0, 1, 1, 1, 1, 1, 1, 1,\n",
    "       1, 1, 0, 1, 1, 1, 1, 0, 0, 1, 0, 1, 1, 0, 0, 1, 1, 0, 0, 1, 1, 1,\n",
    "       1, 0, 1, 1, 0, 0, 0, 1, 0, 1, 0, 1, 1, 1, 0, 1, 1, 0, 0, 1, 0, 0,\n",
    "       0, 0, 1, 0, 0, 0, 1, 0, 1, 0, 1, 1, 0, 1, 0, 0, 0, 0, 1, 1, 0, 0,\n",
    "       1, 1, 1, 0, 1, 1, 1, 1, 1, 0, 0, 1, 1, 0, 1, 1, 0, 0, 1, 0, 1, 1,\n",
    "       1, 1, 0, 1, 1, 1, 1, 1, 0, 1, 0, 0, 0, 0, 0, 0, 0, 0, 0, 0, 0, 0,\n",
    "       0, 0, 1, 1, 1, 1, 1, 1, 0, 1, 0, 1, 1, 0, 1, 1, 0, 1, 0, 0, 1, 1,\n",
    "       1, 1, 1, 1, 1, 1, 1, 1, 1, 1, 1, 0, 1, 1, 0, 1, 0, 1, 1, 1, 1, 1,\n",
    "       1, 1, 1, 1, 1, 1, 1, 1, 1, 0, 1, 1, 1, 0, 1, 0, 1, 1, 1, 1, 0, 0,\n",
    "       0, 1, 1, 1, 1, 0, 1, 0, 1, 0, 1, 1, 1, 0, 1, 1, 1, 1, 1, 1, 1, 0,\n",
    "       0, 0, 1, 1, 1, 1, 1, 1, 1, 1, 1, 1, 1, 0, 0, 1, 0, 0, 0, 1, 0, 0,\n",
    "       1, 1, 1, 1, 1, 0, 1, 1, 1, 1, 1, 0, 1, 1, 1, 0, 1, 1, 0, 0, 1, 1,\n",
    "       1, 1, 1, 1, 0, 1, 1, 1, 1, 1, 1, 1, 0, 1, 1, 1, 1, 1, 0, 1, 1, 0,\n",
    "       1, 1, 1, 1, 1, 1, 1, 1, 1, 1, 1, 1, 0, 1, 0, 0, 1, 0, 1, 1, 1, 1,\n",
    "       1, 0, 1, 1, 0, 1, 0, 1, 1, 0, 1, 0, 1, 1, 1, 1, 1, 1, 1, 1, 0, 0,\n",
    "       1, 1, 1, 1, 1, 1, 0, 1, 1, 1, 1, 1, 1, 1, 1, 1, 1, 0, 1, 1, 1, 1,\n",
    "       1, 1, 1, 0, 1, 0, 1, 1, 0, 1, 1, 1, 1, 1, 0, 0, 1, 0, 1, 0, 1, 1,\n",
    "       1, 1, 1, 0, 1, 1, 0, 1, 0, 1, 0, 0, 1, 1, 1, 0, 1, 1, 1, 1, 1, 1,\n",
    "       1, 1, 1, 1, 1, 0, 1, 0, 0, 1, 1, 1, 1, 1, 1, 1, 1, 1, 1, 1, 1, 1,\n",
    "       1, 1, 1, 1, 1, 1, 1, 1, 1, 1, 1, 1, 0, 0, 0, 0, 0, 0, 1])"
   ]
  },
  {
   "cell_type": "code",
   "execution_count": null,
   "metadata": {},
   "outputs": [],
   "source": [
    "data['target_names']"
   ]
  },
  {
   "attachments": {},
   "cell_type": "markdown",
   "metadata": {},
   "source": [
    "array(['malignant', 'benign'], dtype='<U9')"
   ]
  },
  {
   "cell_type": "code",
   "execution_count": null,
   "metadata": {},
   "outputs": [],
   "source": [
    "feature=data['data']\n",
    "label=data['target']\n",
    "feature.shape"
   ]
  },
  {
   "attachments": {},
   "cell_type": "markdown",
   "metadata": {},
   "source": [
    "(569, 30)"
   ]
  },
  {
   "cell_type": "code",
   "execution_count": null,
   "metadata": {},
   "outputs": [],
   "source": [
    "scale= StandardScaler()\n",
    "\n",
    "feature= scale.fit_transform(feature)\n",
    "     \n",
    "j=0\n",
    "for i in data['feature_names']:\n",
    "  print(i,':',feature[0][j])\n",
    "  j+=1\n",
    "\n",
    "  print(feature[0])\n",
    "print(data['target_names'][label[0]])"
   ]
  },
  {
   "attachments": {},
   "cell_type": "markdown",
   "metadata": {},
   "source": [
    "[ 1.09706398 -2.07333501  1.26993369  0.9843749   1.56846633  3.28351467\n",
    "  2.65287398  2.53247522  2.21751501  2.25574689  2.48973393 -0.56526506\n",
    "  2.83303087  2.48757756 -0.21400165  1.31686157  0.72402616  0.66081994\n",
    "  1.14875667  0.90708308  1.88668963 -1.35929347  2.30360062  2.00123749\n",
    "  1.30768627  2.61666502  2.10952635  2.29607613  2.75062224  1.93701461]\n",
    "malignant"
   ]
  },
  {
   "cell_type": "code",
   "execution_count": null,
   "metadata": {},
   "outputs": [],
   "source": [
    "df_frt=pd.DataFrame(feature, columns= data['feature_names'])\n",
    "df_lbl=pd.DataFrame(label, columns= ['label'])\n",
    "df=pd.concat([df_frt,df_lbl], axis=1)\n",
    "df= df.sample(frac=1)\n",
    "df"
   ]
  },
  {
   "cell_type": "code",
   "execution_count": null,
   "metadata": {
    "vscode": {
     "languageId": "plaintext"
    }
   },
   "outputs": [],
   "source": [
    "\tmean_radius\t mean_texture\tmean_perimeter\tmean_area\tmean_smoothness\t    mean_compactness\tmean_concavity\tmean_concave_points\t mean_symmetry\tmean_fractal_dimension\t...\t worst_texture\tworst_perimeter\t worst_area\t worst_smoothness\tworst_compactness\tworst_concavity\t worst_concave_points\tworst_symmetry\tworst_fractal_dimension\t  label\n",
    "459\t -1.241793\t  2.073499\t      -1.247611\t   -1.035222\t-1.175673\t       -1.100721\t      -0.921401\t        -0.992788\t      -0.695938\t         -0.464635\t        ...\t  1.830816\t      -1.168535\t     -0.932895\t   -0.936711\t       -0.912002\t      -0.960889\t          -1.004137\t            -0.937918\t       -0.655891\t        1\n",
    "253\t  0.901094\t -0.514200\t       0.866270\t    0.777324\t 0.315955\t       -0.004567\t       0.474586\t         0.892752\t       0.005043\t         -0.945203\t        ...\t -0.095626\t       0.704101\t      0.600181\t    0.404667\t       -0.087565\t       0.314773\t           1.082516\t             0.383809\t       -0.156041\t        0\n",
    "351\t  0.460872       -0.016208\t       0.623248\t    0.294964\t 1.988342\t        2.502714\t       2.543646\t         1.941793\t       2.056873\t          1.875829\t        ...\t -0.245442\t       0.361564\t      0.061029\t    0.992068\t        1.592480\t       1.991028\t           1.505816\t             2.174692\t        1.166735\t        0\n",
    "45\t  1.284513\t -0.393193\t       1.307005\t    1.197683\t 0.963560\t        1.217803\t       1.363478\t         1.340793\t       0.348232\t         -0.327128\t        ...\t -0.709547\t       1.290882\t      1.206661\t    1.557551\t        1.620470\t       2.217950\t           1.875822\t             1.453162\t        0.438017\t        0\n",
    "250\t  1.934906\t  0.993739\t       1.933096\t    2.016784\t 0.308838\t        1.066192\t       2.290035\t         2.117192\t       1.436213\t         -0.541186\t        ...\t  0.215406\t       1.728734\t      1.985416\t   -0.493969\t        0.400354\t       2.048118\t           1.460136\t             0.364396\t       -0.302339\t        0\n",
    "...\t...\t...\t...\t...\t...\t...\t...\t...\t...\t...\t...\t...\t...\t...\t...\t...\t...\t...\t...\t...\t...\n",
    "112\t  0.037691\t  0.083856\t       0.241414\t   -0.071072\t-1.280286\t        2.254449\t       2.655385\t         0.749595\t      -0.392910\t          2.111151\t        ...\t -0.317093\t      -0.007780\t     -0.301628\t   -1.879621\t        1.049853\t       1.948330\t           0.546540\t            -0.813348\t        1.344065\t        1\n",
    "476\t  0.020650\t  0.288638\t       0.018164\t   -0.103779\t-0.501736\t        0.122408\t      -0.479215\t        -0.473040\t      -1.115796\t         -0.383832\t        ...\t  0.257745\t       0.144127\t     -0.091558\t   -0.748217\t        0.563842\t      -0.100693\t           0.293779\t            -0.593330\t       -0.297351\t        1\n",
    "548\t -1.262242\t  0.011717\t      -1.273561\t   -1.050012\t-0.814864\t       -1.024157\t      -0.821463\t        -1.013810\t      -0.845627\t         -0.063453\t        ...\t -0.014204\t      -1.136664\t     -0.907756\t   -0.546572\t       -1.010222\t      -0.857262\t          -1.159448\t            -0.564210\t       -0.262993\t        1\n",
    "219\t  1.534446\t  3.067156\t       1.484123\t    1.615766\t-0.865392\t        0.164101\t       0.322671\t         0.450127\t      -1.400570\t         -1.370484\t        ...\t  3.213360\t       2.172543\t      2.806362\t    0.369598\t        0.988783\t       0.610780\t           0.729259\t            -0.303748\t       -0.458057\t        0\n",
    "487\t  1.508885\t -0.109290\t       1.488242\t    1.456496\t 0.892395\t        0.766758\t       1.717529\t         1.817982\t       0.041553\t         -0.233566\t        ...\t  0.767446\t       1.389175\t      1.510780\t    0.834259\t        0.752140\t       1.541979\t           1.391616\t             0.590885\t        0.340485\t        0\t"
   ]
  },
  {
   "attachments": {},
   "cell_type": "markdown",
   "metadata": {},
   "source": [
    "569 rows × 31 columns"
   ]
  },
  {
   "cell_type": "code",
   "execution_count": null,
   "metadata": {},
   "outputs": [],
   "source": [
    "\n",
    "#500 Training\n",
    "x_train = feature[:500]\n",
    "y_train = label[:500]\n",
    "\n",
    "#35 Validation\n",
    "x_val = feature[500:535]\n",
    "y_val = label[500:535]\n",
    "\n",
    "#34 Testing\n",
    "x_test = feature[535:]\n",
    "y_test = label[535:]\n",
    "\n",
    "x_train.shape"
   ]
  },
  {
   "attachments": {},
   "cell_type": "markdown",
   "metadata": {},
   "source": [
    "(500, 30)"
   ]
  },
  {
   "cell_type": "code",
   "execution_count": null,
   "metadata": {},
   "outputs": [],
   "source": [
    "from keras.backend import binary_crossentropy\n",
    "model=Sequential()\n",
    "model.add(Dense(64, activation='relu', input_dim= 30))\n",
    "model.add(Dense(32, activation='relu'))\n",
    "model.add(Dense(16, activation='relu'))\n",
    "model.add(Dense(1, activation='sigmoid'))\n",
    "\n",
    "model.compile(loss='binary_crossentropy',optimizer='adam', metrics=['accuracy'] )"
   ]
  },
  {
   "cell_type": "code",
   "execution_count": null,
   "metadata": {},
   "outputs": [],
   "source": [
    "model.fit(x_train, y_train, batch_size=1, epochs=10, validation_data=(x_val, y_val))"
   ]
  },
  {
   "attachments": {},
   "cell_type": "markdown",
   "metadata": {},
   "source": [
    "Epoch 1/10\n",
    "500/500 [==============================] - 2s 2ms/step - loss: 0.1791 - accuracy: 0.9400 - val_loss: 0.0409 - val_accuracy: 1.0000\n",
    "Epoch 2/10\n",
    "500/500 [==============================] - 1s 2ms/step - loss: 0.0839 - accuracy: 0.9720 - val_loss: 0.0524 - val_accuracy: 0.9714\n",
    "Epoch 3/10\n",
    "500/500 [==============================] - 1s 2ms/step - loss: 0.0480 - accuracy: 0.9840 - val_loss: 0.0923 - val_accuracy: 0.9714\n",
    "Epoch 4/10\n",
    "500/500 [==============================] - 1s 2ms/step - loss: 0.0340 - accuracy: 0.9860 - val_loss: 0.1458 - val_accuracy: 0.9714\n",
    "Epoch 5/10\n",
    "500/500 [==============================] - 1s 2ms/step - loss: 0.0289 - accuracy: 0.9920 - val_loss: 0.1386 - val_accuracy: 0.9714\n",
    "Epoch 6/10\n",
    "500/500 [==============================] - 1s 2ms/step - loss: 0.0266 - accuracy: 0.9940 - val_loss: 0.1875 - val_accuracy: 0.9714\n",
    "Epoch 7/10\n",
    "500/500 [==============================] - 1s 2ms/step - loss: 0.0251 - accuracy: 0.9920 - val_loss: 0.1633 - val_accuracy: 0.9714\n",
    "Epoch 8/10\n",
    "500/500 [==============================] - 1s 2ms/step - loss: 0.0214 - accuracy: 0.9940 - val_loss: 0.1447 - val_accuracy: 0.9714\n",
    "Epoch 9/10\n",
    "500/500 [==============================] - 1s 2ms/step - loss: 0.0211 - accuracy: 0.9940 - val_loss: 0.1161 - val_accuracy: 0.9714\n",
    "Epoch 10/10\n",
    "500/500 [==============================] - 1s 2ms/step - loss: 0.0092 - accuracy: 0.9960 - val_loss: 0.1241 - val_accuracy: 0.9714\n",
    "<keras.callbacks.History at 0x7fcb16f48150>"
   ]
  },
  {
   "cell_type": "code",
   "execution_count": null,
   "metadata": {},
   "outputs": [],
   "source": [
    "x_train[0]"
   ]
  },
  {
   "attachments": {},
   "cell_type": "markdown",
   "metadata": {},
   "source": [
    "array([ 1.09706398, -2.07333501,  1.26993369,  0.9843749 ,  1.56846633,\n",
    "        3.28351467,  2.65287398,  2.53247522,  2.21751501,  2.25574689,\n",
    "        2.48973393, -0.56526506,  2.83303087,  2.48757756, -0.21400165,\n",
    "        1.31686157,  0.72402616,  0.66081994,  1.14875667,  0.90708308,\n",
    "        1.88668963, -1.35929347,  2.30360062,  2.00123749,  1.30768627,\n",
    "        2.61666502,  2.10952635,  2.29607613,  2.75062224,  1.93701461])"
   ]
  },
  {
   "cell_type": "code",
   "execution_count": null,
   "metadata": {},
   "outputs": [],
   "source": [
    "model.evaluate(x_test, y_test)"
   ]
  },
  {
   "attachments": {},
   "cell_type": "markdown",
   "metadata": {},
   "source": [
    "2/2 [==============================] - 0s 5ms/step - loss: 0.0105 - accuracy: 1.0000\n",
    "[0.01050428207963705, 1.0]"
   ]
  },
  {
   "cell_type": "code",
   "execution_count": null,
   "metadata": {},
   "outputs": [],
   "source": [
    "y_test"
   ]
  },
  {
   "attachments": {},
   "cell_type": "markdown",
   "metadata": {},
   "source": [
    "array([0, 0, 1, 1, 1, 1, 1, 1, 1, 1, 1, 1, 1, 1, 1, 1, 1, 1, 1, 1, 1, 1,\n",
    "       1, 1, 1, 1, 1, 0, 0, 0, 0, 0, 0, 1])"
   ]
  },
  {
   "cell_type": "code",
   "execution_count": null,
   "metadata": {},
   "outputs": [],
   "source": [
    "y_val"
   ]
  },
  {
   "attachments": {},
   "cell_type": "markdown",
   "metadata": {},
   "source": [
    "array([1, 0, 1, 0, 1, 1, 1, 1, 1, 0, 1, 1, 0, 1, 0, 1, 0, 0, 1, 1, 1, 0,\n",
    "       1, 1, 1, 1, 1, 1, 1, 1, 1, 1, 1, 0, 1])"
   ]
  },
  {
   "cell_type": "code",
   "execution_count": null,
   "metadata": {},
   "outputs": [],
   "source": [
    "\n",
    "sample= x_test[10]\n",
    "\n",
    "sample.shape"
   ]
  },
  {
   "attachments": {},
   "cell_type": "markdown",
   "metadata": {},
   "source": [
    "(30,)"
   ]
  },
  {
   "cell_type": "code",
   "execution_count": null,
   "metadata": {},
   "outputs": [],
   "source": [
    "sample"
   ]
  },
  {
   "attachments": {},
   "cell_type": "markdown",
   "metadata": {},
   "source": [
    "array([-0.14407806,  0.91694624, -0.19684934, -0.23233219, -0.27756523,\n",
    "       -0.6987597 , -0.741488  , -0.6316726 , -0.53894726, -0.67869351,\n",
    "       -0.21356438,  0.21617286, -0.39605381, -0.20015129, -0.39100882,\n",
    "       -0.25084001, -0.38739725, -0.44317904,  0.03967757, -0.45840426,\n",
    "       -0.19034815,  0.55574951, -0.28836304, -0.26506358, -0.47205092,\n",
    "       -0.65245698, -0.80257043, -0.65270672, -0.41860997, -0.7988643 ])"
   ]
  },
  {
   "cell_type": "code",
   "execution_count": null,
   "metadata": {},
   "outputs": [],
   "source": [
    "for i in range(30):\n",
    "  sample=x_test[i]\n",
    "  sample=np.reshape(sample,(1,30))\n",
    "\n",
    "  if model.predict(sample)[0][0] >0.5 :\n",
    "    print(\"-Benign\")\n",
    "  else:\n",
    "    print(\"-Malignant\")\n",
    "\n",
    "  if y_test[i]==1:\n",
    "    print(\"*Benign\")\n",
    "  else:\n",
    "    print(\"*Malignant\")  \n",
    "\n",
    "  print(\"------\")  "
   ]
  },
  {
   "attachments": {},
   "cell_type": "markdown",
   "metadata": {},
   "source": [
    "-Malignant\n",
    "*Malignant\n",
    "------\n",
    "-Malignant\n",
    "*Malignant\n",
    "------\n",
    "-Benign\n",
    "*Benign\n",
    "------\n",
    "-Benign\n",
    "*Benign\n",
    "------\n",
    "-Benign\n",
    "*Benign\n",
    "------\n",
    "-Benign\n",
    "*Benign\n",
    "------\n",
    "-Benign\n",
    "*Benign\n",
    "------\n",
    "-Benign\n",
    "*Benign\n",
    "------\n",
    "-Benign\n",
    "*Benign\n",
    "------\n",
    "-Benign\n",
    "*Benign\n",
    "------\n",
    "-Benign\n",
    "*Benign\n",
    "------\n",
    "-Benign\n",
    "*Benign\n",
    "------\n",
    "-Benign\n",
    "*Benign\n",
    "------\n",
    "-Benign\n",
    "*Benign\n",
    "------\n",
    "-Benign\n",
    "*Benign\n",
    "------\n",
    "-Benign\n",
    "*Benign\n",
    "------\n",
    "-Benign\n",
    "*Benign\n",
    "------\n",
    "-Benign\n",
    "*Benign\n",
    "------\n",
    "-Benign\n",
    "*Benign\n",
    "------\n",
    "-Benign\n",
    "*Benign\n",
    "------\n",
    "-Benign\n",
    "*Benign\n",
    "------\n",
    "-Benign\n",
    "*Benign\n",
    "------\n",
    "-Benign\n",
    "*Benign\n",
    "------\n",
    "-Benign\n",
    "*Benign\n",
    "------\n",
    "-Benign\n",
    "*Benign\n",
    "------\n",
    "-Benign\n",
    "*Benign\n",
    "------\n",
    "-Benign\n",
    "*Benign\n",
    "------\n",
    "-Malignant\n",
    "*Malignant\n",
    "------\n",
    "-Malignant\n",
    "*Malignant\n",
    "------\n",
    "-Malignant\n",
    "*Malignant\n",
    "------"
   ]
  },
  {
   "cell_type": "code",
   "execution_count": null,
   "metadata": {},
   "outputs": [],
   "source": [
    "sample.shape"
   ]
  },
  {
   "attachments": {},
   "cell_type": "markdown",
   "metadata": {},
   "source": [
    "(1, 30)"
   ]
  },
  {
   "cell_type": "code",
   "execution_count": null,
   "metadata": {},
   "outputs": [],
   "source": [
    "model.predict(sample)"
   ]
  },
  {
   "attachments": {},
   "cell_type": "markdown",
   "metadata": {},
   "source": [
    "array([[4.8561056e-18]], dtype=float32)"
   ]
  },
  {
   "cell_type": "code",
   "execution_count": null,
   "metadata": {},
   "outputs": [],
   "source": [
    "x_test[0]"
   ]
  },
  {
   "attachments": {},
   "cell_type": "markdown",
   "metadata": {},
   "source": [
    "array([ 1.82414032,  0.36543133,  1.88778669,  1.85751441,  0.58638323,\n",
    "        1.31824626,  1.50283863,  2.14814488,  1.15143953, -0.04077169,\n",
    "        1.05904307, -0.4114087 ,  0.910827  ,  1.04382537, -0.82102626,\n",
    "        0.03810891,  0.27043808,  0.3915519 , -0.12862155, -0.41830962,\n",
    "        1.66304049, -0.03211657,  1.57682617,  1.63207582, -0.24410428,\n",
    "        0.37681708,  0.82091153,  1.5256103 ,  0.28512459, -0.45750286])"
   ]
  },
  {
   "cell_type": "code",
   "execution_count": null,
   "metadata": {},
   "outputs": [],
   "source": [
    "\n",
    "y_test[0]"
   ]
  },
  {
   "attachments": {},
   "cell_type": "markdown",
   "metadata": {},
   "source": [
    "0"
   ]
  },
  {
   "cell_type": "code",
   "execution_count": null,
   "metadata": {},
   "outputs": [],
   "source": [
    "x_test[10]"
   ]
  },
  {
   "attachments": {},
   "cell_type": "markdown",
   "metadata": {},
   "source": [
    "array([-0.14407806,  0.91694624, -0.19684934, -0.23233219, -0.27756523,\n",
    "       -0.6987597 , -0.741488  , -0.6316726 , -0.53894726, -0.67869351,\n",
    "       -0.21356438,  0.21617286, -0.39605381, -0.20015129, -0.39100882,\n",
    "       -0.25084001, -0.38739725, -0.44317904,  0.03967757, -0.45840426,\n",
    "       -0.19034815,  0.55574951, -0.28836304, -0.26506358, -0.47205092,\n",
    "       -0.65245698, -0.80257043, -0.65270672, -0.41860997, -0.7988643 ])"
   ]
  },
  {
   "cell_type": "code",
   "execution_count": null,
   "metadata": {},
   "outputs": [],
   "source": [
    "y_test[10]"
   ]
  },
  {
   "attachments": {},
   "cell_type": "markdown",
   "metadata": {},
   "source": [
    "1"
   ]
  }
 ],
 "metadata": {
  "language_info": {
   "name": "python"
  },
  "orig_nbformat": 4
 },
 "nbformat": 4,
 "nbformat_minor": 2
}
