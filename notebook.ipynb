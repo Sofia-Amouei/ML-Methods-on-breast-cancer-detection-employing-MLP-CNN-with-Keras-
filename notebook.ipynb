<div data-mime-type="text/markdown" class="jp-RenderedHTMLCommon jp-RenderedMarkdown jp-MarkdownOutput">
<h1 id="Breast-cancer-detection-with-CNN-Dataset">Breast cancer detection with CNN Dataset </h1>
</div>
