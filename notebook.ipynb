<h1 id="ML-Methods-on-breast-cancer-detection-employing-MLP-CNN-with-Keras-Dataset">
<a href="https://github.com/Sofia-Amouei/ML-Methods-on-breast-cancer-detection-employing-MLP-CNN-with-Keras-" class="anchor-link">¶
</a>
</h1>
