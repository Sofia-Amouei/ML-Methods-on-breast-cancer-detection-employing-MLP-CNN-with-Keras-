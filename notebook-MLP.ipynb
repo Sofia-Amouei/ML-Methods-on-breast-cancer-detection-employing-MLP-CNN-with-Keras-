{
 "cells": [
  {
   "cell_type": "markdown",
   "metadata": {},
   "source": [
    "# Implementing MLP on breast cancer detection"
   ]
  },
  {
   "cell_type": "markdown",
   "metadata": {},
   "source": [
    "## Pre-Processing"
   ]
  },
  {
   "cell_type": "code",
   "execution_count": null,
   "metadata": {},
   "outputs": [],
   "source": [
    "import pandas as pd\n",
    "from sklearn.svm import SVC\n",
    "import numpy as np # linear algebra\n",
    "import pandas as pd # data processing, CSV file I/O (e.g. pd.read_csv)\n",
    "import matplotlib.pyplot as plt\n",
    "import seaborn as sns\n",
    "from sklearn import metrics\n",
    "\n",
    "data=pd.read_csv('C://Users/ASUS/Downloads/breastcancer/data.csv')\n",
    "\n",
    "data.head()"
   ]
  },
  {
   "cell_type": "code",
   "execution_count": null,
   "metadata": {
    "vscode": {
     "languageId": "plaintext"
    }
   },
   "outputs": [],
   "source": [
    "\tid\t     diagnosis\tradius_mean\t texture_mean\tperimeter_mean\tarea_mean\tsmoothness_mean\t  compactness_mean\t concavity_mean\t  concave_points_mean\t...\t  texture_worst\t  perimeter_worst\tarea_worst\t smoothness_worst\tcompactness_worst\tconcavity_worst\t  concave_points_worst\tsymmetry_worst\tfractal_dimension_worst\t  Unnamed: 32\n",
    "0\t842302\t    M\t       17.99\t   10.38\t       122.80\t      1001.0\t   0.11840\t          0.27760\t        0.3001\t            0.14710\t        ...\t      17.33\t         184.60\t          2019.0\t     0.1622\t             0.6656\t             0.7119\t             0.2654\t            0.4601\t             0.11890\t           NaN\n",
    "1\t842517\t    M\t       20.57\t   17.77\t       132.90\t      1326.0\t   0.08474\t          0.07864\t        0.0869\t            0.07017\t        ...\t      23.41\t         158.80\t          1956.0\t     0.1238\t             0.1866\t             0.2416\t             0.1860\t            0.2750\t             0.08902\t           NaN\n",
    "2\t84300903\tM\t       19.69\t   21.25\t       130.00\t      1203.0\t   0.10960\t          0.15990\t        0.1974\t            0.12790\t        ...\t      25.53\t         152.50\t          1709.0\t     0.1444\t             0.4245\t             0.4504\t             0.2430\t            0.3613\t             0.08758\t           NaN\n",
    "3\t84348301\tM\t       11.42\t   20.38\t       77.58\t      386.1\t       0.14250\t          0.28390\t        0.2414\t            0.10520\t        ...\t      26.50\t         98.87\t          567.7\t         0.2098\t             0.8663\t             0.6869\t             0.2575\t            0.6638\t             0.17300\t           NaN\n",
    "4\t84358402\tM\t       20.29\t   14.34\t       135.10\t      1297.0\t   0.10030\t          0.13280\t        0.1980\t            0.10430\t        ...\t      16.67\t         152.20\t          1575.0\t     0.1374\t             0.2050\t             0.4000\t             0.1625\t            0.2364\t             0.07678\t           NaN"
   ]
  },
  {
   "attachments": {},
   "cell_type": "markdown",
   "metadata": {},
   "source": [
    "5 rows × 33 columns"
   ]
  },
  {
   "cell_type": "code",
   "execution_count": null,
   "metadata": {},
   "outputs": [],
   "source": [
    "df=data\n",
    "df.drop(['id','Unnamed: 32'],axis=1,inplace=True)"
   ]
  },
  {
   "cell_type": "code",
   "execution_count": null,
   "metadata": {},
   "outputs": [],
   "source": [
    "from sklearn.preprocessing import LabelEncoder\n",
    "\n",
    "lb=LabelEncoder()\n",
    "df['diagnosis']=lb.fit_transform(df['diagnosis'])\n",
    "\n",
    "df"
   ]
  },
  {
   "cell_type": "code",
   "execution_count": null,
   "metadata": {
    "vscode": {
     "languageId": "plaintext"
    }
   },
   "outputs": [],
   "source": [
    "  diagnosis\\radius_mean\\texture_mean\\perimeter_mean\\area_mean\\smoothness_mean\\compactness_mean\\concavity_mean\\concave_points_mean\\symmetry_mean\\...\t\\radius_worst\\texture_worst\\perimeter_worst\\area_worst\\smoothness_worst\\compactness_worst\\concavity_worst\\concave_points_worst\\symmetry_worst\\fractal_dimension_worst\n",
    "0\t 1\t    17.99\t      10.38\t        122.80\t      1001.0\t  0.11840\t      0.27760\t       0.30010\t        0.14710\t         0.2419\t    ...\t    25.380\t      17.33\t        184.60\t      2019.0\t   0.16220\t        0.66560\t          0.7119\t        0.2654\t           0.4601\t         0.11890\n",
    "1\t 1\t    20.57\t      17.77\t        132.90\t      1326.0\t  0.08474\t      0.07864\t       0.08690\t        0.07017\t         0.1812\t    ...\t    24.990\t      23.41\t        158.80\t      1956.0\t   0.12380\t        0.18660\t          0.2416\t        0.1860\t           0.2750\t         0.08902\n",
    "2\t 1\t    19.69\t      21.25\t        130.00\t      1203.0\t  0.10960\t      0.15990\t       0.19740\t        0.12790\t         0.2069\t    ...\t    23.570\t      25.53\t        152.50\t      1709.0\t   0.14440\t        0.42450\t          0.4504\t        0.2430\t           0.3613\t         0.08758\n",
    "3\t 1\t    11.42\t      20.38\t        77.58\t      386.1\t      0.14250\t      0.28390\t       0.24140\t        0.10520\t         0.2597\t    ...\t    14.910\t      26.50\t        98.87\t      567.7\t       0.20980\t        0.86630\t          0.6869\t        0.2575\t           0.6638\t         0.17300\n",
    "4\t 1\t    20.29\t      14.34\t        135.10\t      1297.0\t  0.10030\t      0.13280\t       0.19800\t        0.10430\t         0.1809\t    ...\t    22.540\t      16.67\t        152.20\t      1575.0\t   0.13740\t        0.20500\t          0.4000\t        0.1625\t           0.2364\t         0.07678\n",
    "...\t...\t...\t...\t...\t...\t...\t...\t...\t...\t...\t...\t...\t...\t...\t...\t...\t...\t...\t...\t...\t...\n",
    "564\t 1\t    21.56\t      22.39\t        142.00\t      1479.0\t  0.11100\t      0.11590\t       0.24390\t        0.13890\t         0.1726\t    ...\t    25.450\t      26.40\t        166.10\t      2027.0\t   0.14100\t        0.21130\t          0.4107\t        0.2216\t           0.2060\t         0.07115\n",
    "565  1\t    20.13\t      28.25\t        131.20\t      1261.0\t  0.09780      \t  0.10340\t       0.14400\t        0.09791\t         0.1752\t    ...\t    23.690\t      38.25\t        155.00\t      1731.0\t   0.11660\t        0.19220\t          0.3215\t        0.1628\t           0.2572\t         0.06637\n",
    "566\t 1\t    16.60\t      28.08\t        108.30\t      858.1\t      0.08455\t      0.10230\t       0.09251\t        0.05302\t         0.1590\t    ...\t    18.980\t      34.12\t        126.70\t      1124.0\t   0.11390\t        0.30940\t          0.3403\t        0.1418\t           0.2218\t         0.07820\n",
    "567\t 1\t    20.60\t      29.33\t        140.10\t      1265.0\t  0.11780\t      0.27700\t       0.35140\t        0.15200\t         0.2397\t    ...\t    25.740\t      39.42\t        184.60\t      1821.0\t   0.16500\t        0.86810\t          0.9387\t        0.2650\t           0.4087\t         0.12400\n",
    "568\t 0\t    7.76\t      24.54\t        47.92\t      181.0\t      0.05263\t      0.04362\t       0.00000\t        0.00000\t         0.1587\t    ...\t    9.456\t      30.37\t        59.16\t      268.6\t       0.08996\t        0.06444\t          0.0000\t        0.0000\t           0.2871\t         0.07039"
   ]
  },
  {
   "attachments": {},
   "cell_type": "markdown",
   "metadata": {},
   "source": [
    "569 rows × 31 columns"
   ]
  },
  {
   "cell_type": "markdown",
   "metadata": {},
   "source": [
    "## Data Splitting"
   ]
  },
  {
   "cell_type": "code",
   "execution_count": null,
   "metadata": {},
   "outputs": [],
   "source": [
    "X=df.iloc[:,1:32].values\n",
    "#X\n",
    "y=df.iloc[:,0].values\n",
    "from sklearn.model_selection import train_test_split \n",
    "X_train,X_test,y_train,y_test=train_test_split(X,y,test_size=0.2,random_state=42)\n",
    "X_train.shape"
   ]
  },
  {
   "attachments": {},
   "cell_type": "markdown",
   "metadata": {},
   "source": [
    "(455, 30)"
   ]
  },
  {
   "cell_type": "code",
   "execution_count": null,
   "metadata": {},
   "outputs": [],
   "source": [
    "X_test.shape"
   ]
  },
  {
   "attachments": {},
   "cell_type": "markdown",
   "metadata": {},
   "source": [
    "(114, 30)"
   ]
  },
  {
   "cell_type": "code",
   "execution_count": null,
   "metadata": {},
   "outputs": [],
   "source": [
    "sns.countplot(df['diagnosis'])\n",
    "plt.ioff()"
   ]
  },
  {
   "attachments": {},
   "cell_type": "markdown",
   "metadata": {},
   "source": [
    "![download](https://user-images.githubusercontent.com/120085689/214551794-82f32d51-5690-4a9d-b493-2671b9ab927e.png)"
   ]
  },
  {
   "cell_type": "markdown",
   "metadata": {},
   "source": [
    "## MLP Classifier"
   ]
  },
  {
   "cell_type": "code",
   "execution_count": null,
   "metadata": {},
   "outputs": [],
   "source": [
    "from sklearn.neural_network import MLPClassifier\n",
    "\n",
    "classifier = MLPClassifier(hidden_layer_sizes=(100,100,100), max_iter=400,activation = 'relu',solver='adam',random_state=2)\n",
    "\n",
    "classifier.fit(X_train, y_train)\n",
    "\n",
    "y_pred_MLP = classifier.predict(X_test)"
   ]
  },
  {
   "cell_type": "code",
   "execution_count": null,
   "metadata": {},
   "outputs": [],
   "source": [
    "print(\"MLP Accuracy:\",metrics.accuracy_score(y_test, y_pred_MLP))\n",
    "print(classification_report(y_test,y_pred_MLP))\n",
    "\n",
    "#cm=confusion_matrix(y_test,y_pred_MLP)\n",
    "#sns.heatmap(cm/np.sum(cm),annot=True)\n",
    "#plt.ioff()"
   ]
  },
  {
   "attachments": {},
   "cell_type": "markdown",
   "metadata": {},
   "source": [
    "\n",
    "                precision   recall   f1-score   support\n",
    "\n",
    "           0       0.92      0.99      0.95        71\n",
    "           1       0.97      0.86      0.91        43\n",
    "           \n",
    "       accuracy                        0.94       114\n",
    "\n",
    "       macro avg   0.95      0.92      0.93       114\n",
    "   \n",
    "      weighted avg 0.94      0.94      0.94       114\n",
    "\n",
    "MLP Accuracy: 0.9385964912280702"
   ]
  }
 ],
 "metadata": {
  "language_info": {
   "name": "python"
  },
  "orig_nbformat": 4
 },
 "nbformat": 4,
 "nbformat_minor": 2
}
